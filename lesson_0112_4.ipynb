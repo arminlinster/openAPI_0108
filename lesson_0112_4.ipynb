{
 "cells": [
  {
   "cell_type": "code",
   "execution_count": null,
   "metadata": {},
   "outputs": [],
   "source": [
    "total = 0\n",
    "while True:\n",
    "    number1 = int(input(\"請輸入數字[按負整數會離開]:\"))\n",
    "    if number1 < 0:\n",
    "        break\n",
    "    if number1 %2 == 1:\n",
    "        continue\n",
    "    else:\n",
    "        total += number1\n",
    "    print(total)\n",
    "print(\"程式結束\")"
   ]
  }
 ],
 "metadata": {
  "language_info": {
   "name": "python"
  }
 },
 "nbformat": 4,
 "nbformat_minor": 2
}
