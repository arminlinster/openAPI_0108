{
 "cells": [
  {
   "cell_type": "code",
   "execution_count": 1,
   "metadata": {},
   "outputs": [
    {
     "name": "stdout",
     "output_type": "stream",
     "text": [
      "2\n",
      "6\n",
      "程式結束\n"
     ]
    }
   ],
   "source": [
    "total = 0\n",
    "while True:\n",
    "    number1 = int(input(\"請輸入數字[按負整數會離開]:\"))\n",
    "    if number1 < 0:\n",
    "        break\n",
    "    if number1 %2 == 1:\n",
    "        continue\n",
    "    else:\n",
    "        total += number1\n",
    "    print(total)\n",
    "print(\"程式結束\")"
   ]
  }
 ],
 "metadata": {
  "kernelspec": {
   "display_name": "Python 3",
   "language": "python",
   "name": "python3"
  },
  "language_info": {
   "codemirror_mode": {
    "name": "ipython",
    "version": 3
   },
   "file_extension": ".py",
   "mimetype": "text/x-python",
   "name": "python",
   "nbconvert_exporter": "python",
   "pygments_lexer": "ipython3",
   "version": "3.10.8"
  }
 },
 "nbformat": 4,
 "nbformat_minor": 2
}
