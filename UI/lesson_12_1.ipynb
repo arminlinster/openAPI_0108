{
 "cells": [
  {
   "cell_type": "code",
   "execution_count": 4,
   "metadata": {},
   "outputs": [
    {
     "name": "stdout",
     "output_type": "stream",
     "text": [
      "下載成功\n",
      "[{'date': '2024-1-25 8:52:5', 'address': 'chicken_KFC', 'temperature': 27.98069, 'light': 10626.0}, {'date': '2024-1-25 8:52:9', 'address': 'chicken_KFC', 'temperature': 27.98069, 'light': 12307.0}]\n"
     ]
    }
   ],
   "source": [
    "import requests\n",
    "\n",
    "url = 'https://openapi-0119.onrender.com/pico_w/?count=2'\n",
    "\n",
    "r = requests.get(url=url)\n",
    "\n",
    "if r.status_code == 200:\n",
    "    print(\"下載成功\")\n",
    "    data = r.json()\n",
    "\n",
    "print(data)"
   ]
  },
  {
   "cell_type": "code",
   "execution_count": 5,
   "metadata": {},
   "outputs": [
    {
     "data": {
      "text/html": [
       "<div>\n",
       "<style scoped>\n",
       "    .dataframe tbody tr th:only-of-type {\n",
       "        vertical-align: middle;\n",
       "    }\n",
       "\n",
       "    .dataframe tbody tr th {\n",
       "        vertical-align: top;\n",
       "    }\n",
       "\n",
       "    .dataframe thead th {\n",
       "        text-align: right;\n",
       "    }\n",
       "</style>\n",
       "<table border=\"1\" class=\"dataframe\">\n",
       "  <thead>\n",
       "    <tr style=\"text-align: right;\">\n",
       "      <th></th>\n",
       "      <th>date</th>\n",
       "      <th>address</th>\n",
       "      <th>temperature</th>\n",
       "      <th>light</th>\n",
       "    </tr>\n",
       "  </thead>\n",
       "  <tbody>\n",
       "    <tr>\n",
       "      <th>0</th>\n",
       "      <td>2024-1-25 8:52:5</td>\n",
       "      <td>chicken_KFC</td>\n",
       "      <td>27.98069</td>\n",
       "      <td>10626.0</td>\n",
       "    </tr>\n",
       "    <tr>\n",
       "      <th>1</th>\n",
       "      <td>2024-1-25 8:52:9</td>\n",
       "      <td>chicken_KFC</td>\n",
       "      <td>27.98069</td>\n",
       "      <td>12307.0</td>\n",
       "    </tr>\n",
       "  </tbody>\n",
       "</table>\n",
       "</div>"
      ],
      "text/plain": [
       "               date      address  temperature    light\n",
       "0  2024-1-25 8:52:5  chicken_KFC     27.98069  10626.0\n",
       "1  2024-1-25 8:52:9  chicken_KFC     27.98069  12307.0"
      ]
     },
     "execution_count": 5,
     "metadata": {},
     "output_type": "execute_result"
    }
   ],
   "source": [
    "import pandas as pd\n",
    "pd.DataFrame(data)\n"
   ]
  }
 ],
 "metadata": {
  "kernelspec": {
   "display_name": "venv",
   "language": "python",
   "name": "python3"
  },
  "language_info": {
   "codemirror_mode": {
    "name": "ipython",
    "version": 3
   },
   "file_extension": ".py",
   "mimetype": "text/x-python",
   "name": "python",
   "nbconvert_exporter": "python",
   "pygments_lexer": "ipython3",
   "version": "3.10.8"
  }
 },
 "nbformat": 4,
 "nbformat_minor": 2
}
